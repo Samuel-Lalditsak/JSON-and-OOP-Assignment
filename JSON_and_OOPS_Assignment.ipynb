{
 "cells": [
  {
   "cell_type": "markdown",
   "metadata": {},
   "source": [
    "# Create an assignment for File handling of JSON files in Python"
   ]
  },
  {
   "cell_type": "markdown",
   "metadata": {},
   "source": [
    "## Assignment 1"
   ]
  },
  {
   "cell_type": "code",
   "execution_count": null,
   "metadata": {},
   "outputs": [
    {
     "name": "stdout",
     "output_type": "stream",
     "text": [
      "Name: Samuel Lalditsak\n",
      "DOB: 1996-05-05\n",
      "Height: 170\n",
      "City: Bengaluru\n",
      "State: Karnataka\n",
      "----------------\n",
      "Name: Maylawmthang Tuolor\n",
      "DOB: 1954-05-10\n",
      "Height: 162\n",
      "City: Bengaluru\n",
      "State: Karnataka\n",
      "----------------\n",
      "Name: Melody Lalfelkim\n",
      "DOB: 1999-10-23\n",
      "Height: 160\n",
      "City: Churachandpur\n",
      "State: Manipur\n",
      "----------------\n",
      "Name: Lalhlunthangi\n",
      "DOB: 1963-02-25\n",
      "Height: 160\n",
      "City: Bengaluru\n",
      "State: Karnataka\n",
      "----------------\n",
      "Name: Lalnunsiama Darlong\n",
      "DOB: 1994-05-05\n",
      "Height: 160\n",
      "City: Bengaluru\n",
      "State: Karnataka\n",
      "----------------\n"
     ]
    }
   ],
   "source": [
    "import json\n",
    "\n",
    "employees = [\n",
    "    {\"name\": \"Samuel Lalditsak\", \"DOB\": \"1996-05-05\", \"height\": 170, \"city\": \"Bengaluru\", \"state\": \"Karnataka\"},\n",
    "    {\"name\": \"Maylawmthang Tuolor\", \"DOB\": \"1954-05-10\", \"height\": 162, \"city\": \"Bengaluru\", \"state\": \"Karnataka\"},\n",
    "    {\"name\": \"Melody Lalfelkim\", \"DOB\": \"1999-10-23\", \"height\": 160, \"city\": \"Churachandpur\", \"state\": \"Manipur\"},\n",
    "    {\"name\": \"Lalhlunthangi\", \"DOB\": \"1963-02-25\", \"height\": 160, \"city\": \"Bengaluru\", \"state\": \"Karnataka\"},\n",
    "    {\"name\": \"Lalnunsiama Darlong\", \"DOB\": \"1994-05-05\", \"height\": 160, \"city\": \"Bengaluru\", \"state\": \"Karnataka\"},\n",
    "]\n",
    "\n",
    "with open(\"employee.json\", \"w\") as file:\n",
    "    json.dump(employees, file)\n",
    "\n",
    "class Employee:\n",
    "    def __init__(self, name, DOB, height, city, state):\n",
    "        self.name = name\n",
    "        self.DOB = DOB\n",
    "        self.height = height\n",
    "        self.city = city\n",
    "        self.state = state\n",
    "\n",
    "def read_employee_info(filename):\n",
    "\n",
    "    employee_list = []\n",
    "\n",
    "    with open(filename, \"r\") as f:\n",
    "        data = json.load(f)\n",
    "\n",
    "    for employee in data:\n",
    "        employee_list.append(\n",
    "            Employee(\n",
    "                employee[\"name\"],\n",
    "                employee[\"DOB\"],\n",
    "                employee[\"height\"],\n",
    "                employee[\"city\"],\n",
    "                employee[\"state\"],\n",
    "            )\n",
    "        )\n",
    "\n",
    "    return employee_list\n",
    "\n",
    "\n",
    "def main():\n",
    "\n",
    "    file_path = r\"employee.json\"\n",
    "    emp_list = read_employee_info(file_path)\n",
    "\n",
    "    for employee in emp_list:\n",
    "        print(f\"Name: {employee.name}\")\n",
    "        print(f\"DOB: {employee.DOB}\")\n",
    "        print(f\"Height: {employee.height}\")\n",
    "        print(f\"City: {employee.city}\")\n",
    "        print(f\"State: {employee.state}\")\n",
    "        print(\"----------------\")\n",
    "\n",
    "\n",
    "if __name__ == \"__main__\":\n",
    "    main()"
   ]
  },
  {
   "cell_type": "markdown",
   "metadata": {},
   "source": [
    "## Assignment 2"
   ]
  },
  {
   "cell_type": "code",
   "execution_count": 2,
   "metadata": {},
   "outputs": [],
   "source": [
    "import json\n",
    "\n",
    "states_capitals = {}\n",
    "for i in range(7):\n",
    "    state = input(f\"Enter state {i + 1} name: \")\n",
    "    capital = input(f\"Enter capital of {state}: \")\n",
    "    states_capitals[state] = capital\n",
    "\n",
    "filename = input(\"Enter path to save JSON file: \")\n",
    "with open(filename, 'w') as file:\n",
    "    json.dump(states_capitals, file, indent=4)\n",
    "\n",
    "print(f\"File created successfully: {employee.json}\")"
   ]
  }
 ],
 "metadata": {
  "interpreter": {
   "hash": "aee8b7b246df8f9039afb4144a1f6fd8d2ca17a180786b69acc140d282b71a49"
  },
  "kernelspec": {
   "display_name": "Python 3.11.4 64-bit",
   "language": "python",
   "name": "python3"
  },
  "language_info": {
   "codemirror_mode": {
    "name": "ipython",
    "version": 3
   },
   "file_extension": ".py",
   "mimetype": "text/x-python",
   "name": "python",
   "nbconvert_exporter": "python",
   "pygments_lexer": "ipython3",
   "version": "3.11.4"
  },
  "orig_nbformat": 4
 },
 "nbformat": 4,
 "nbformat_minor": 2
}
